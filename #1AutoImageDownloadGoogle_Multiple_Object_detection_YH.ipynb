{
  "cells": [
    {
      "cell_type": "markdown",
      "metadata": {
        "id": "S2lXMObM6sRP"
      },
      "source": [
        "# Final Exam. Multiclass Object Detection\n",
        "\n",
        "\n",
        "\n",
        "\n"
      ]
    },
    {
      "cell_type": "markdown",
      "metadata": {
        "id": "DCC55T8lUDyD"
      },
      "source": [
        "### Introduction\n",
        "\n",
        "The objective of this project is to develop an object detection model using YOLO (You Only Look Once) to identify and classify various types of vegetables and fruits in images. The model will be trained on a dataset containing 100 images of 10 different types of vegetables and fruits. The trained model will then be evaluated on real Canadian Superstore flyers (can be found in the flyer section of their website, very few weeks new flyers are released by the store) to detect and classify the presence of vegetables or fruits. The model should be capable of detecting multiple instances of vegetables or fruits within a single flyer and provide a probability score for each detected class."
      ]
    },
    {
      "cell_type": "markdown",
      "metadata": {
        "id": "mk5TPRdWSrZG"
      },
      "source": [
        "###  Dataset Description\n",
        "The training dataset should consist of 100 images representing 10 different types of vegetables or fruits. Each image contains objects of one or more classes, along with labeled bounding boxes for each object. The test dataset will be comprised of real Canadian Superstore flyers, where the goal is to detect and classify vegetables or fruits depicted in the flyer images."
      ]
    },
    {
      "cell_type": "markdown",
      "metadata": {
        "id": "FlVelB9fSrl_"
      },
      "source": [
        "## Task 1\n",
        "Data Preparation and Preprocessing\n",
        "Collect and curate a diverse dataset of images containing 10 types of vegetables or fruits. Ensure proper labeling of object classes and bounding boxes.\n",
        "Preprocess the images and annotations for compatibility with YOLO object detection framework."
      ]
    },
    {
      "cell_type": "markdown",
      "metadata": {
        "id": "6dWtJ1wVdU8Y"
      },
      "source": [
        "This guide will help you to perform object detection for your own custom data by applying Transfer Learning using YOLOv3. So let's begin.\n",
        "### 1: Prepare dataset.\n",
        "* Create a dataset of the object for which you want to perform its detection. You may scrape images from Google Images to download data or use any other source for your data.\n",
        "* Clean your dataset by removing unwanted/irrelevant images. Also, make sure all the images are of the format jpg.\n",
        "Once you are done with the above two steps, you're good to go for the next step.\n",
        "\n",
        "### 2: Data Annotation.\n",
        "We need a data annotation tool to label our images. Although there are plenty of annotation tools available, we will go ahead with Labellmg.\n",
        "\n",
        "#### a) Pip install labelImg in the command line in windows or in mac to install the software.You can install in mac setting  as default python 3.9 version or create a Conda environment.[Reference for the GitHub](https://github.com/heartexlabs/labelImg)\n",
        "\n",
        "* Then use the command labelImg to open the software. It will open separately in its own GUI.\n",
        "\n"
      ]
    },
    {
      "cell_type": "markdown",
      "metadata": {
        "id": "SsCifsd3dU8Y"
      },
      "source": [
        "#### b) * Open LabelImg and configure the settings as shown in the figure below.\n",
        "\n",
        "<img width=\"804\" alt=\"Screen Shot 2023-08-13 at 23 46 42\" src=\"https://user-images.githubusercontent.com/113282077/260389476-63cea3b5-5706-4d49-8346-c64e7b1a43fa.png\">\n"
      ]
    },
    {
      "cell_type": "markdown",
      "metadata": {
        "id": "on89BHKddU8Y"
      },
      "source": [
        "\n",
        "<img width=\"552\" alt=\"Txt file\" src=\"https://user-images.githubusercontent.com/113282077/260393213-ef389b02-0870-40b0-91b7-8fe2b3482f36.png\">\n",
        "\n",
        "\n",
        "#### c) We proceed with label the image and obtaing the txt.\n",
        "The metadata includes the following:\n",
        "- object id\n",
        "- center x\n",
        "- center_y\n",
        "- width\n",
        "- height\n",
        "\n",
        "* object_id represents the number corresponding to the object category which we listed in 'classes txt' earlier.\n",
        "\n",
        "* center_ and center_y represent the center point of the bounding box. But they are normalized to range between 0 and 1 by dividing by the width and height of the image.\n",
        "* width and height represents the width and height of the bounding box. Again normalized to the range 0 to 1 dividing by the original width and height of the\n",
        "image."
      ]
    },
    {
      "cell_type": "markdown",
      "metadata": {
        "id": "cBSSFTFNdU8Y"
      },
      "source": [
        "Now we need to have 2 Folder and 1 python file.\n",
        "\n",
        "<img width=\"371\" alt=\"Screen Shot 2023-08-15 at 09 23 36\" src=\"https://user-images.githubusercontent.com/113282077/260775124-4357c606-badb-4453-8048-c89de1be3b1b.png\">"
      ]
    },
    {
      "cell_type": "markdown",
      "metadata": {
        "id": "bgjZUAj7Sorc"
      },
      "source": [
        "### Code to auto download images from Google and save them into a folder\n"
      ]
    },
    {
      "cell_type": "markdown",
      "metadata": {
        "id": "suE3lvyfYfR4"
      },
      "source": [
        "Automate the download from google"
      ]
    },
    {
      "cell_type": "code",
      "execution_count": null,
      "metadata": {
        "colab": {
          "base_uri": "https://localhost:8080/"
        },
        "id": "MrHWRD-d6cF1",
        "outputId": "2dce93d3-1994-4b33-8c9b-35be8bd00f47"
      },
      "outputs": [
        {
          "name": "stdout",
          "output_type": "stream",
          "text": [
            "Collecting simple_image_download\n",
            "  Downloading simple_image_download-0.5-py3-none-any.whl (7.0 kB)\n",
            "Requirement already satisfied: requests in /usr/local/lib/python3.10/dist-packages (from simple_image_download) (2.31.0)\n",
            "INFO: pip is looking at multiple versions of simple-image-download to determine which version is compatible with other requirements. This could take a while.\n",
            "  Downloading simple_image_download-0.4-py3-none-any.whl (4.9 kB)\n",
            "  Downloading simple_image_download-0.2-py3-none-any.whl (3.8 kB)\n",
            "Requirement already satisfied: charset-normalizer<4,>=2 in /usr/local/lib/python3.10/dist-packages (from requests->simple_image_download) (3.2.0)\n",
            "Requirement already satisfied: idna<4,>=2.5 in /usr/local/lib/python3.10/dist-packages (from requests->simple_image_download) (3.4)\n",
            "Requirement already satisfied: urllib3<3,>=1.21.1 in /usr/local/lib/python3.10/dist-packages (from requests->simple_image_download) (2.0.4)\n",
            "Requirement already satisfied: certifi>=2017.4.17 in /usr/local/lib/python3.10/dist-packages (from requests->simple_image_download) (2023.7.22)\n",
            "Installing collected packages: simple_image_download\n",
            "Successfully installed simple_image_download-0.2\n"
          ]
        }
      ],
      "source": [
        "!pip install simple_image_download"
      ]
    },
    {
      "cell_type": "markdown",
      "metadata": {
        "id": "-sk783JnSm45"
      },
      "source": [
        "#### Create the simple images photos"
      ]
    },
    {
      "cell_type": "code",
      "execution_count": null,
      "metadata": {
        "colab": {
          "base_uri": "https://localhost:8080/"
        },
        "id": "OJBNozFU6rYZ",
        "outputId": "e03852ef-709d-44ce-b12c-c0d40a26d804"
      },
      "outputs": [
        {
          "name": "stdout",
          "output_type": "stream",
          "text": [
            "HTTPSConnectionPool(host='www.freshpoint.com', port=443): Max retries exceeded with url: /wp-content/uploads/commodity-red-onion.jpg (Caused by SSLError(SSLCertVerificationError(1, '[SSL: CERTIFICATE_VERIFY_FAILED] certificate verify failed: unable to get local issuer certificate (_ssl.c:1007)')))\n",
            "HTTPSConnectionPool(host='www.marianos.com', port=443): Max retries exceeded with url: /content/v2/binary/image/blog/food/types-of-tomatoes-guide/imageset_types-of-tomatoes_03-02--640-x-1630_tomatoes_info-graphic_02-16_52.png (Caused by NameResolutionError(\"<urllib3.connection.HTTPSConnection object at 0x7f5d34344c10>: Failed to resolve 'www.marianos.com' ([Errno -2] Name or service not known)\"))\n"
          ]
        }
      ],
      "source": [
        "from simple_image_download import simple_image_download as imgd\n",
        "# Step 1: Collect and Curate Dataset\n",
        "response = imgd.simple_image_download\n",
        "keywords = [\"mandarins\", \"blueberries\", \"baby carrots\", \"avocados\", \"broccoli\", \"green zucchinis\", \"onions\", \"tomatoes\", \"red mangos\", \"limes\"]\n",
        "\n",
        "for word in keywords:\n",
        "    response().download(word, 20)# I decided to download more photos than the reuirements  because I will have some garbage images."
      ]
    },
    {
      "cell_type": "markdown",
      "metadata": {
        "id": "eto5P3ASUCw3"
      },
      "source": [
        "### Zip the differentes folder of all fruits and vegetables in a folder"
      ]
    },
    {
      "cell_type": "code",
      "execution_count": null,
      "metadata": {
        "colab": {
          "base_uri": "https://localhost:8080/"
        },
        "id": "St8eFwNo9dEM",
        "outputId": "b3fddf8c-b9a0-41fd-a651-90604cb496c0"
      },
      "outputs": [
        {
          "name": "stdout",
          "output_type": "stream",
          "text": [
            "  adding: content/simple_images/ (stored 0%)\n",
            "  adding: content/simple_images/green zucchinis/ (stored 0%)\n",
            "  adding: content/simple_images/green zucchinis/green zucchinis_7.jpg (deflated 1%)\n",
            "  adding: content/simple_images/green zucchinis/green zucchinis_10.jpg (deflated 8%)\n",
            "  adding: content/simple_images/green zucchinis/green zucchinis_18.jpg (deflated 0%)\n",
            "  adding: content/simple_images/green zucchinis/green zucchinis_1.jpg (stored 0%)\n",
            "  adding: content/simple_images/green zucchinis/green zucchinis_20.jpg (deflated 0%)\n",
            "  adding: content/simple_images/green zucchinis/green zucchinis_11.jpg (deflated 0%)\n",
            "  adding: content/simple_images/green zucchinis/green zucchinis_4.jpg (deflated 9%)\n",
            "  adding: content/simple_images/green zucchinis/green zucchinis_17.jpg (deflated 0%)\n",
            "  adding: content/simple_images/green zucchinis/green zucchinis_14.jpg (deflated 4%)\n",
            "  adding: content/simple_images/green zucchinis/green zucchinis_3.jpg (stored 0%)\n",
            "  adding: content/simple_images/green zucchinis/green zucchinis_6.jpg (deflated 38%)\n",
            "  adding: content/simple_images/green zucchinis/green zucchinis_8.jpg (deflated 1%)\n",
            "  adding: content/simple_images/green zucchinis/green zucchinis_13.jpg (deflated 1%)\n",
            "  adding: content/simple_images/green zucchinis/green zucchinis_2.jpg (deflated 5%)\n",
            "  adding: content/simple_images/green zucchinis/green zucchinis_16.jpg (deflated 5%)\n",
            "  adding: content/simple_images/green zucchinis/green zucchinis_12.jpg (deflated 3%)\n",
            "  adding: content/simple_images/green zucchinis/green zucchinis_5.jpg (deflated 5%)\n",
            "  adding: content/simple_images/green zucchinis/green zucchinis_19.jpg (deflated 1%)\n",
            "  adding: content/simple_images/green zucchinis/green zucchinis_15.jpg (deflated 5%)\n",
            "  adding: content/simple_images/green zucchinis/green zucchinis_9.jpg (deflated 1%)\n",
            "  adding: content/simple_images/onions/ (stored 0%)\n",
            "  adding: content/simple_images/onions/onions_5.jpg (deflated 31%)\n",
            "  adding: content/simple_images/onions/onions_7.jpg (deflated 0%)\n",
            "  adding: content/simple_images/onions/onions_3.jpg (stored 0%)\n",
            "  adding: content/simple_images/onions/onions_10.jpg (deflated 0%)\n",
            "  adding: content/simple_images/onions/onions_19.jpg (deflated 62%)\n",
            "  adding: content/simple_images/onions/onions_9.jpg (deflated 62%)\n",
            "  adding: content/simple_images/onions/onions_13.jpg (deflated 47%)\n",
            "  adding: content/simple_images/onions/onions_12.jpg (deflated 0%)\n",
            "  adding: content/simple_images/onions/onions_11.jpg (deflated 1%)\n",
            "  adding: content/simple_images/onions/onions_20.jpg (deflated 0%)\n",
            "  adding: content/simple_images/onions/onions_4.jpg (deflated 0%)\n",
            "  adding: content/simple_images/onions/onions_18.jpg (deflated 40%)\n",
            "  adding: content/simple_images/onions/onions_16.jpg (deflated 0%)\n",
            "  adding: content/simple_images/onions/onions_14.jpg (deflated 12%)\n",
            "  adding: content/simple_images/onions/onions_2.jpg (deflated 5%)\n",
            "  adding: content/simple_images/onions/onions_15.jpg (deflated 62%)\n",
            "  adding: content/simple_images/onions/onions_1.jpg (stored 0%)\n",
            "  adding: content/simple_images/onions/onions_17.jpg (deflated 40%)\n",
            "  adding: content/simple_images/onions/onions_6.jpg (deflated 40%)\n",
            "  adding: content/simple_images/onions/onions_8.jpg (deflated 35%)\n",
            "  adding: content/simple_images/mandarins/ (stored 0%)\n",
            "  adding: content/simple_images/mandarins/mandarins_16.jpg (deflated 5%)\n",
            "  adding: content/simple_images/mandarins/mandarins_17.jpg (deflated 0%)\n",
            "  adding: content/simple_images/mandarins/mandarins_7.jpg (deflated 1%)\n",
            "  adding: content/simple_images/mandarins/mandarins_14.jpg (deflated 0%)\n",
            "  adding: content/simple_images/mandarins/mandarins_15.jpg (deflated 2%)\n",
            "  adding: content/simple_images/mandarins/mandarins_9.jpg (deflated 1%)\n",
            "  adding: content/simple_images/mandarins/mandarins_3.jpg (stored 0%)\n",
            "  adding: content/simple_images/mandarins/mandarins_13.jpg (deflated 3%)\n",
            "  adding: content/simple_images/mandarins/mandarins_4.jpg (deflated 4%)\n",
            "  adding: content/simple_images/mandarins/mandarins_12.jpg (deflated 0%)\n",
            "  adding: content/simple_images/mandarins/mandarins_19.jpg (deflated 40%)\n",
            "  adding: content/simple_images/mandarins/mandarins_2.jpg (deflated 5%)\n",
            "  adding: content/simple_images/mandarins/mandarins_20.jpg (deflated 4%)\n",
            "  adding: content/simple_images/mandarins/mandarins_6.jpg (deflated 7%)\n",
            "  adding: content/simple_images/mandarins/mandarins_1.jpg (stored 0%)\n",
            "  adding: content/simple_images/mandarins/mandarins_10.jpg (deflated 2%)\n",
            "  adding: content/simple_images/mandarins/mandarins_8.jpg (deflated 10%)\n",
            "  adding: content/simple_images/mandarins/mandarins_5.jpg (deflated 0%)\n",
            "  adding: content/simple_images/mandarins/mandarins_11.jpg (deflated 9%)\n",
            "  adding: content/simple_images/mandarins/mandarins_18.jpg (deflated 3%)\n",
            "  adding: content/simple_images/limes/ (stored 0%)\n",
            "  adding: content/simple_images/limes/limes_19.jpg (deflated 2%)\n",
            "  adding: content/simple_images/limes/limes_2.jpg (deflated 5%)\n",
            "  adding: content/simple_images/limes/limes_1.jpg (stored 0%)\n",
            "  adding: content/simple_images/limes/limes_10.jpg (deflated 5%)\n",
            "  adding: content/simple_images/limes/limes_18.jpg (deflated 62%)\n",
            "  adding: content/simple_images/limes/limes_9.jpg (deflated 0%)\n",
            "  adding: content/simple_images/limes/limes_16.jpg (deflated 0%)\n",
            "  adding: content/simple_images/limes/limes_6.jpg (deflated 62%)\n",
            "  adding: content/simple_images/limes/limes_8.jpg (deflated 1%)\n",
            "  adding: content/simple_images/limes/limes_15.jpg (deflated 2%)\n",
            "  adding: content/simple_images/limes/limes_4.jpg (deflated 0%)\n",
            "  adding: content/simple_images/limes/limes_3.jpg (stored 0%)\n",
            "  adding: content/simple_images/limes/limes_5.jpg (deflated 0%)\n",
            "  adding: content/simple_images/limes/limes_13.jpg (deflated 0%)\n",
            "  adding: content/simple_images/limes/limes_7.jpg (deflated 4%)\n",
            "  adding: content/simple_images/limes/limes_12.jpg (deflated 5%)\n",
            "  adding: content/simple_images/limes/limes_17.jpg (deflated 0%)\n",
            "  adding: content/simple_images/limes/limes_20.jpg (deflated 0%)\n",
            "  adding: content/simple_images/limes/limes_11.jpg (deflated 38%)\n",
            "  adding: content/simple_images/limes/limes_14.jpg (deflated 1%)\n",
            "  adding: content/simple_images/baby carrots/ (stored 0%)\n",
            "  adding: content/simple_images/baby carrots/baby carrots_6.jpg (deflated 1%)\n",
            "  adding: content/simple_images/baby carrots/baby carrots_8.jpg (deflated 0%)\n",
            "  adding: content/simple_images/baby carrots/baby carrots_11.jpg (deflated 6%)\n",
            "  adding: content/simple_images/baby carrots/baby carrots_2.jpg (deflated 5%)\n",
            "  adding: content/simple_images/baby carrots/baby carrots_9.jpg (deflated 3%)\n",
            "  adding: content/simple_images/baby carrots/baby carrots_18.jpg (deflated 1%)\n",
            "  adding: content/simple_images/baby carrots/baby carrots_10.jpg (deflated 0%)\n",
            "  adding: content/simple_images/baby carrots/baby carrots_7.jpg (deflated 2%)\n",
            "  adding: content/simple_images/baby carrots/baby carrots_19.jpg (deflated 0%)\n",
            "  adding: content/simple_images/baby carrots/baby carrots_1.jpg (stored 0%)\n",
            "  adding: content/simple_images/baby carrots/baby carrots_13.jpg (deflated 0%)\n",
            "  adding: content/simple_images/baby carrots/baby carrots_20.jpg (deflated 0%)\n",
            "  adding: content/simple_images/baby carrots/baby carrots_4.jpg (deflated 1%)\n",
            "  adding: content/simple_images/baby carrots/baby carrots_5.jpg (deflated 0%)\n",
            "  adding: content/simple_images/baby carrots/baby carrots_16.jpg (deflated 0%)\n",
            "  adding: content/simple_images/baby carrots/baby carrots_3.jpg (stored 0%)\n",
            "  adding: content/simple_images/baby carrots/baby carrots_15.jpg (deflated 0%)\n",
            "  adding: content/simple_images/baby carrots/baby carrots_12.jpg (deflated 3%)\n",
            "  adding: content/simple_images/baby carrots/baby carrots_17.jpg (deflated 12%)\n",
            "  adding: content/simple_images/baby carrots/baby carrots_14.jpg (deflated 0%)\n",
            "  adding: content/simple_images/tomatoes/ (stored 0%)\n",
            "  adding: content/simple_images/tomatoes/tomatoes_4.jpg (deflated 1%)\n",
            "  adding: content/simple_images/tomatoes/tomatoes_6.jpg (deflated 35%)\n",
            "  adding: content/simple_images/tomatoes/tomatoes_7.jpg (deflated 4%)\n",
            "  adding: content/simple_images/tomatoes/tomatoes_8.jpg (deflated 0%)\n",
            "  adding: content/simple_images/tomatoes/tomatoes_17.jpg (deflated 1%)\n",
            "  adding: content/simple_images/tomatoes/tomatoes_13.jpg (deflated 1%)\n",
            "  adding: content/simple_images/tomatoes/tomatoes_20.jpg (deflated 8%)\n",
            "  adding: content/simple_images/tomatoes/tomatoes_2.jpg (deflated 5%)\n",
            "  adding: content/simple_images/tomatoes/tomatoes_19.jpg (deflated 0%)\n",
            "  adding: content/simple_images/tomatoes/tomatoes_14.jpg (stored 0%)\n",
            "  adding: content/simple_images/tomatoes/tomatoes_18.jpg (deflated 4%)\n",
            "  adding: content/simple_images/tomatoes/tomatoes_16.jpg (deflated 1%)\n",
            "  adding: content/simple_images/tomatoes/tomatoes_9.jpg (deflated 1%)\n",
            "  adding: content/simple_images/tomatoes/tomatoes_12.jpg (deflated 0%)\n",
            "  adding: content/simple_images/tomatoes/tomatoes_1.jpg (stored 0%)\n",
            "  adding: content/simple_images/tomatoes/tomatoes_10.jpg (deflated 1%)\n",
            "  adding: content/simple_images/tomatoes/tomatoes_15.jpg (deflated 40%)\n",
            "  adding: content/simple_images/tomatoes/tomatoes_5.jpg (deflated 0%)\n",
            "  adding: content/simple_images/tomatoes/tomatoes_11.jpg (deflated 0%)\n",
            "  adding: content/simple_images/tomatoes/tomatoes_3.jpg (stored 0%)\n",
            "  adding: content/simple_images/blueberries/ (stored 0%)\n",
            "  adding: content/simple_images/blueberries/blueberries_1.jpg (stored 0%)\n",
            "  adding: content/simple_images/blueberries/blueberries_18.jpg (deflated 0%)\n",
            "  adding: content/simple_images/blueberries/blueberries_6.jpg (deflated 5%)\n",
            "  adding: content/simple_images/blueberries/blueberries_9.jpg (deflated 2%)\n",
            "  adding: content/simple_images/blueberries/blueberries_16.jpg (deflated 0%)\n",
            "  adding: content/simple_images/blueberries/blueberries_12.jpg (deflated 0%)\n",
            "  adding: content/simple_images/blueberries/blueberries_11.jpg (deflated 0%)\n",
            "  adding: content/simple_images/blueberries/blueberries_7.jpg (deflated 0%)\n",
            "  adding: content/simple_images/blueberries/blueberries_5.jpg (deflated 1%)\n",
            "  adding: content/simple_images/blueberries/blueberries_10.jpg (deflated 0%)\n",
            "  adding: content/simple_images/blueberries/blueberries_13.jpg (deflated 6%)\n",
            "  adding: content/simple_images/blueberries/blueberries_4.jpg (deflated 1%)\n",
            "  adding: content/simple_images/blueberries/blueberries_14.jpg (deflated 1%)\n",
            "  adding: content/simple_images/blueberries/blueberries_2.jpg (deflated 5%)\n",
            "  adding: content/simple_images/blueberries/blueberries_15.jpg (deflated 0%)\n",
            "  adding: content/simple_images/blueberries/blueberries_8.jpg (deflated 2%)\n",
            "  adding: content/simple_images/blueberries/blueberries_20.jpg (deflated 2%)\n",
            "  adding: content/simple_images/blueberries/blueberries_19.jpg (deflated 0%)\n",
            "  adding: content/simple_images/blueberries/blueberries_17.jpg (deflated 7%)\n",
            "  adding: content/simple_images/blueberries/blueberries_3.jpg (stored 0%)\n",
            "  adding: content/simple_images/broccoli/ (stored 0%)\n",
            "  adding: content/simple_images/broccoli/broccoli_10.jpg (deflated 9%)\n",
            "  adding: content/simple_images/broccoli/broccoli_18.jpg (deflated 0%)\n",
            "  adding: content/simple_images/broccoli/broccoli_19.jpg (deflated 0%)\n",
            "  adding: content/simple_images/broccoli/broccoli_8.jpg (deflated 62%)\n",
            "  adding: content/simple_images/broccoli/broccoli_14.jpg (deflated 62%)\n",
            "  adding: content/simple_images/broccoli/broccoli_1.jpg (stored 0%)\n",
            "  adding: content/simple_images/broccoli/broccoli_16.jpg (deflated 62%)\n",
            "  adding: content/simple_images/broccoli/broccoli_3.jpg (stored 0%)\n",
            "  adding: content/simple_images/broccoli/broccoli_15.jpg (deflated 62%)\n",
            "  adding: content/simple_images/broccoli/broccoli_13.jpg (deflated 62%)\n",
            "  adding: content/simple_images/broccoli/broccoli_5.jpg (deflated 2%)\n",
            "  adding: content/simple_images/broccoli/broccoli_4.jpg (deflated 3%)\n",
            "  adding: content/simple_images/broccoli/broccoli_6.jpg (deflated 1%)\n",
            "  adding: content/simple_images/broccoli/broccoli_2.jpg (deflated 5%)\n",
            "  adding: content/simple_images/broccoli/broccoli_11.jpg (deflated 1%)\n",
            "  adding: content/simple_images/broccoli/broccoli_17.jpg (deflated 10%)\n",
            "  adding: content/simple_images/broccoli/broccoli_7.jpg (deflated 0%)\n",
            "  adding: content/simple_images/broccoli/broccoli_9.jpg (deflated 1%)\n",
            "  adding: content/simple_images/broccoli/broccoli_12.jpg (deflated 0%)\n",
            "  adding: content/simple_images/broccoli/broccoli_20.jpg (deflated 62%)\n",
            "  adding: content/simple_images/red mangos/ (stored 0%)\n",
            "  adding: content/simple_images/red mangos/red mangos_14.jpg (deflated 40%)\n",
            "  adding: content/simple_images/red mangos/red mangos_10.jpg (deflated 4%)\n",
            "  adding: content/simple_images/red mangos/red mangos_3.jpg (stored 0%)\n",
            "  adding: content/simple_images/red mangos/red mangos_17.jpg (deflated 4%)\n",
            "  adding: content/simple_images/red mangos/red mangos_20.jpg (stored 0%)\n",
            "  adding: content/simple_images/red mangos/red mangos_19.jpg (deflated 40%)\n",
            "  adding: content/simple_images/red mangos/red mangos_6.jpg (deflated 1%)\n",
            "  adding: content/simple_images/red mangos/red mangos_7.jpg (deflated 2%)\n",
            "  adding: content/simple_images/red mangos/red mangos_2.jpg (deflated 5%)\n",
            "  adding: content/simple_images/red mangos/red mangos_16.jpg (deflated 0%)\n",
            "  adding: content/simple_images/red mangos/red mangos_11.jpg (deflated 0%)\n",
            "  adding: content/simple_images/red mangos/red mangos_8.jpg (deflated 1%)\n",
            "  adding: content/simple_images/red mangos/red mangos_9.jpg (deflated 37%)\n",
            "  adding: content/simple_images/red mangos/red mangos_18.jpg (deflated 14%)\n",
            "  adding: content/simple_images/red mangos/red mangos_5.jpg (deflated 6%)\n",
            "  adding: content/simple_images/red mangos/red mangos_15.jpg (deflated 1%)\n",
            "  adding: content/simple_images/red mangos/red mangos_1.jpg (stored 0%)\n",
            "  adding: content/simple_images/red mangos/red mangos_13.jpg (deflated 0%)\n",
            "  adding: content/simple_images/red mangos/red mangos_4.jpg (deflated 0%)\n",
            "  adding: content/simple_images/red mangos/red mangos_12.jpg (deflated 0%)\n",
            "  adding: content/simple_images/avocados/ (stored 0%)\n",
            "  adding: content/simple_images/avocados/avocados_13.jpg (deflated 5%)\n",
            "  adding: content/simple_images/avocados/avocados_7.jpg (deflated 1%)\n",
            "  adding: content/simple_images/avocados/avocados_18.jpg (deflated 0%)\n",
            "  adding: content/simple_images/avocados/avocados_16.jpg (deflated 2%)\n",
            "  adding: content/simple_images/avocados/avocados_6.jpg (deflated 0%)\n",
            "  adding: content/simple_images/avocados/avocados_3.jpg (stored 0%)\n",
            "  adding: content/simple_images/avocados/avocados_15.jpg (deflated 0%)\n",
            "  adding: content/simple_images/avocados/avocados_12.jpg (deflated 2%)\n",
            "  adding: content/simple_images/avocados/avocados_19.jpg (deflated 1%)\n",
            "  adding: content/simple_images/avocados/avocados_20.jpg (deflated 1%)\n",
            "  adding: content/simple_images/avocados/avocados_9.jpg (deflated 0%)\n",
            "  adding: content/simple_images/avocados/avocados_10.jpg (deflated 2%)\n",
            "  adding: content/simple_images/avocados/avocados_14.jpg (deflated 35%)\n",
            "  adding: content/simple_images/avocados/avocados_17.jpg (deflated 1%)\n",
            "  adding: content/simple_images/avocados/avocados_4.jpg (deflated 7%)\n",
            "  adding: content/simple_images/avocados/avocados_1.jpg (stored 0%)\n",
            "  adding: content/simple_images/avocados/avocados_5.jpg (stored 0%)\n",
            "  adding: content/simple_images/avocados/avocados_11.jpg (deflated 39%)\n",
            "  adding: content/simple_images/avocados/avocados_8.jpg (deflated 0%)\n",
            "  adding: content/simple_images/avocados/avocados_2.jpg (deflated 5%)\n"
          ]
        }
      ],
      "source": [
        "from google.colab import files\n",
        "!zip -r /content/fruits_veggies.zip /content/simple_images/"
      ]
    },
    {
      "cell_type": "markdown",
      "metadata": {
        "id": "x-5B6aW3nrjB"
      },
      "source": [
        "Then we proceed to see the photos and the garbage image are not going to be label. We are going to remove the garbage image and proceed to create the label in every photo with YOLO."
      ]
    }
  ],
  "metadata": {
    "accelerator": "GPU",
    "colab": {
      "gpuType": "A100",
      "machine_shape": "hm",
      "provenance": []
    },
    "kernelspec": {
      "display_name": "Python 3",
      "name": "python3"
    },
    "language_info": {
      "name": "python",
      "version": "3.9.13"
    }
  },
  "nbformat": 4,
  "nbformat_minor": 0
}